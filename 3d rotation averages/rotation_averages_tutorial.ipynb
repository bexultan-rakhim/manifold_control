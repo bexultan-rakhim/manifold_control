{
 "cells": [
  {
   "cell_type": "markdown",
   "metadata": {},
   "source": [
    "# How to compute averages of "
   ]
  },
  {
   "cell_type": "markdown",
   "metadata": {},
   "source": [
    "This is a tutorial on how to compute statistical average of several quatenrions and Rotation matrices. Demonstrating example of this can be shown with quaternions. "
   ]
  },
  {
   "cell_type": "markdown",
   "metadata": {},
   "source": [
    "### Quaternion Averaging"
   ]
  },
  {
   "cell_type": "markdown",
   "metadata": {},
   "source": [
    "This tutorial is influenced by the followin paper: http://www.acsu.buffalo.edu/~johnc/ave_quat07.pdf \n",
    "And describes the algorithm used there. As a demonstration, imagine that you have some vector of quatenrions and you want to find the average. It is tempting to find average with the following method:"
   ]
  },
  {
   "cell_type": "code",
   "execution_count": null,
   "metadata": {},
   "outputs": [],
   "source": [
    "import numpy as np\n",
    "import numpy.linalg as LA\n",
    "def average_q_bad(vector_of_quaternions):\n",
    "    q_average = np.sum(vector_of_quaternions, axis=0)/ len(vector_of_quaternions)\n",
    "    return q_average/LA.norm(q_average)"
   ]
  },
  {
   "cell_type": "markdown",
   "metadata": {},
   "source": [
    "However, this equation has two issues:\n",
    "1. Quaternion shouold be normalized, because average does not always produce valid quaternion\n",
    "2. remember that $q$ and $-q$ correspond to the same rotation. but naive average leads to bad results. Here is example:"
   ]
  },
  {
   "cell_type": "code",
   "execution_count": null,
   "metadata": {},
   "outputs": [],
   "source": [
    "q_mean = np.array([1, 0, 0, 0])\n",
    "\n",
    "# making several same rotations by changing signs even number of times:\n",
    "Q_alternating_signs = np.array([(-1)**i * q_mean for i in range(10)])"
   ]
  },
  {
   "cell_type": "code",
   "execution_count": null,
   "metadata": {},
   "outputs": [
    {
     "name": "stderr",
     "output_type": "stream",
     "text": [
      "C:\\Users\\1\\AppData\\Local\\Temp\\ipykernel_6444\\3288014740.py:5: RuntimeWarning: invalid value encountered in divide\n",
      "  return q_average/LA.norm(q_average)\n"
     ]
    },
    {
     "data": {
      "text/plain": [
       "array([nan, nan, nan, nan])"
      ]
     },
     "execution_count": 10,
     "metadata": {},
     "output_type": "execute_result"
    }
   ],
   "source": [
    "average_q_bad(Q_alternating_signs)"
   ]
  },
  {
   "cell_type": "markdown",
   "metadata": {},
   "source": [
    "As you can see, something bad happened, because we divided to zero. You can say that this type of vector never really happens, so lets demonstrate another example:"
   ]
  },
  {
   "cell_type": "code",
   "execution_count": null,
   "metadata": {},
   "outputs": [
    {
     "data": {
      "text/plain": [
       "array([0.70710678, 0.        , 0.70710678, 0.        ])"
      ]
     },
     "execution_count": 22,
     "metadata": {},
     "output_type": "execute_result"
    }
   ],
   "source": [
    "q_mean = np.array([1, 0, 1, 0])\n",
    "q_mean = q_mean/LA.norm(q_mean)\n",
    "q_mean"
   ]
  },
  {
   "cell_type": "code",
   "execution_count": 56,
   "metadata": {},
   "outputs": [],
   "source": [
    "Q_random_noise = np.array([(-1)**i *q_mean + 0.1*(2*np.random.rand(4) - 1) for i in range(100)])"
   ]
  },
  {
   "cell_type": "code",
   "execution_count": 57,
   "metadata": {},
   "outputs": [
    {
     "data": {
      "text/plain": [
       "array([ 0.03353744, -0.54693355,  0.15518062,  0.82198413])"
      ]
     },
     "execution_count": 57,
     "metadata": {},
     "output_type": "execute_result"
    }
   ],
   "source": [
    "average_q_bad(Q_random_noise)"
   ]
  },
  {
   "cell_type": "markdown",
   "metadata": {},
   "source": [
    "Now, you not only don't get the quaternion you wanted, but now you have completely wrong quaterions!"
   ]
  },
  {
   "cell_type": "markdown",
   "metadata": {},
   "source": [
    "#### Correct Quaternion average\n",
    "One of the things about quaternions, they should satisfy the following condition: $q^Tq =1$ \n",
    "The way we will solve the quaternion average is by computing following mean: \n",
    "$ \\sum^N_{i=1} || R(q) - R(q_i) ||_F$ , here $R(q)$- quaternion to rotation matrix transform and $|| \\cdot ||_F$ is Frobenius norm. It is possible to show that the minimizing for $q$ leads to maximizing followin equaition:\n",
    "\n",
    "$ \n",
    "\\begin{align}\n",
    "max_q q^T M q \n",
    "\\end{align}\n",
    "$"
   ]
  },
  {
   "cell_type": "markdown",
   "metadata": {},
   "source": [
    "To satisfy the constrain on length, we have to solve the following problem: \n",
    "$\n",
    "\\begin{align}\n",
    "max_\\lambda min_q - q^T M q + \\lambda(q^Tq - 1)\n",
    "\\end{align}\n",
    "$\n",
    "\n",
    "Therefore, if we find the derfivative  with $\\lambda$ we have our constraint and if we have derivative with $q$ we need to have zero gradient for optimality, because $M$ is positive definite: \n",
    "$\n",
    "\\begin{align}\n",
    "(M - \\lambda I) q = 0\n",
    "\\end{align}\n",
    "$\n",
    "You should recognize this equation, this is basically finding eigenvalues and eigenvectors. Keep in mind, we need to maximize $\\lambda$, therefore, we are interested in largest eigenalue and corresponding eigenvectgor.\n",
    "\n",
    "Algorithm for quaternions becomes the following:"
   ]
  },
  {
   "cell_type": "code",
   "execution_count": 62,
   "metadata": {},
   "outputs": [],
   "source": [
    "def average_q_correct(vector_of_quaternions):\n",
    "    # create transpose multiplication\n",
    "    M = vector_of_quaternions.transpose() @ vector_of_quaternions\n",
    "    # find the most dominant eigenvector and eigenvalues\n",
    "    u , s, v = LA.svd(M)\n",
    "    #index of maximum eigenvalue\n",
    "    i = np.argmax(s)\n",
    "    #return eigenvector corrsponding to maximum eigenvalue\n",
    "    return u[:, i]"
   ]
  },
  {
   "cell_type": "code",
   "execution_count": 59,
   "metadata": {},
   "outputs": [
    {
     "data": {
      "text/plain": [
       "array([1., 0., 0., 0.])"
      ]
     },
     "execution_count": 59,
     "metadata": {},
     "output_type": "execute_result"
    }
   ],
   "source": [
    "average_q_correct(Q_alternating_signs)"
   ]
  },
  {
   "cell_type": "code",
   "execution_count": 61,
   "metadata": {},
   "outputs": [
    {
     "data": {
      "text/plain": [
       "array([-0.69870561, -0.00186204, -0.71540433,  0.0019091 ])"
      ]
     },
     "execution_count": 61,
     "metadata": {},
     "output_type": "execute_result"
    }
   ],
   "source": [
    "average_q_correct(Q_random_noise)"
   ]
  },
  {
   "cell_type": "markdown",
   "metadata": {},
   "source": [
    "As you can see, the above solution actually finds the correct quaternion averages. "
   ]
  },
  {
   "cell_type": "markdown",
   "metadata": {},
   "source": [
    "## Rotation matrix averages"
   ]
  },
  {
   "cell_type": "markdown",
   "metadata": {},
   "source": [
    "What if instead of quaternions we had rotation matrices? You could find the quaternions and use the above equation or you can try another way of solving the equation. For this, we can use the following property:\n",
    "\n",
    "$ min_q \\sum^N_{i=1} || R(q) - R(q_i) ||_F = min_q || R(q) - \\sum^N_{i=1}R(q_i) ||_F$\n",
    "\n",
    "Derivation that this is eqivalent problem is left as exercise. Therefore, you can find the average of the rotation matrices and try to find the bet fit rotation to that average. How to find the best fit rotation matrix to the average? You can use the following paper: https://matthias-research.github.io/pages/publications/stablePolarDecomp.pdf\n",
    "\n",
    "Here is the algorithm:"
   ]
  },
  {
   "cell_type": "code",
   "execution_count": 218,
   "metadata": {},
   "outputs": [],
   "source": [
    "from scipy.spatial.transform import Rotation as R\n",
    "def fit_rotation(matrix_A, guess_matrix, iter):\n",
    "    for _ in range(iter):\n",
    "        r = guess_matrix\n",
    "        # find cross product between A and guess matrix\n",
    "        cross_v = np.sum([ np.cross(x, y) for x, y in zip(r.transpose(), matrix_A.transpose())], axis=0)\n",
    "        # dot product between A and guess matrix\n",
    "        dot_v = np.sum([ np.dot(x, y) for x, y in zip(r.transpose(), matrix_A.transpose())], axis=0)\n",
    "        # divide cross product to dot product\n",
    "        omega = cross_v/(abs(dot_v) + 1.e-9)\n",
    "        #check rotation angle\n",
    "        w = LA.norm(omega)\n",
    "        if w< 1e-9:\n",
    "            #if angle is very small break\n",
    "            break\n",
    "        # convert oemga to rotation with exponential map\n",
    "        q = R.from_rotvec(omega).as_matrix()\n",
    "        # apply rotation to initial guess\n",
    "        guess_matrix = q @ guess_matrix\n",
    "    # return as quaternion\n",
    "    return R.from_matrix(guess_matrix).as_quat()\n"
   ]
  },
  {
   "cell_type": "code",
   "execution_count": 249,
   "metadata": {},
   "outputs": [],
   "source": [
    "A = R.from_quat(q_mean).as_matrix() # matrix from quaternion to fit\n",
    "v = R.from_quat([1,0,0,0]).as_matrix() # guess\n",
    "estimate = fit_rotation(matrix_A=A, guess_matrix=v, iter=100)"
   ]
  },
  {
   "cell_type": "code",
   "execution_count": 250,
   "metadata": {},
   "outputs": [
    {
     "data": {
      "text/plain": [
       "array([0.70710678, 0.        , 0.70710678, 0.        ])"
      ]
     },
     "execution_count": 250,
     "metadata": {},
     "output_type": "execute_result"
    }
   ],
   "source": [
    "estimate"
   ]
  },
  {
   "cell_type": "code",
   "execution_count": 243,
   "metadata": {},
   "outputs": [
    {
     "data": {
      "text/plain": [
       "array([0.70710678, 0.        , 0.70710678, 0.        ])"
      ]
     },
     "execution_count": 243,
     "metadata": {},
     "output_type": "execute_result"
    }
   ],
   "source": [
    "q_mean"
   ]
  },
  {
   "cell_type": "markdown",
   "metadata": {},
   "source": [
    "As you can see, the quaternion estimate is spot on. Now we can do average:"
   ]
  },
  {
   "cell_type": "code",
   "execution_count": 246,
   "metadata": {},
   "outputs": [],
   "source": [
    "A_s = np.array([A + 0.1*(2*np.random.rand(3,3)-1) for _ in range(10)])"
   ]
  },
  {
   "cell_type": "markdown",
   "metadata": {},
   "source": [
    "Here is estimation algorithm:"
   ]
  },
  {
   "cell_type": "code",
   "execution_count": 247,
   "metadata": {},
   "outputs": [],
   "source": [
    "def rotation_estimate(array_of_matrices):\n",
    "    A_mean = np.sum(array_of_matrices, axis=0)/len(array_of_matrices)\n",
    "    guess = R.from_quat([1,0,0,0]).as_matrix() # guess\n",
    "    return fit_rotation(A_mean, guess, 100)"
   ]
  },
  {
   "cell_type": "code",
   "execution_count": 248,
   "metadata": {},
   "outputs": [
    {
     "data": {
      "text/plain": [
       "array([ 0.70927516, -0.00646937,  0.70490137, -0.000981  ])"
      ]
     },
     "execution_count": 248,
     "metadata": {},
     "output_type": "execute_result"
    }
   ],
   "source": [
    "rotation_estimate(A_s)"
   ]
  },
  {
   "cell_type": "markdown",
   "metadata": {},
   "source": [
    "As you can see, the rotation estimate is very close to what we got before. In some sense, it might be even precise. Of course, the rotation fit algorithm can be implemented efficiently in C++ and imported to python. but here, we use it for demonstration"
   ]
  }
 ],
 "metadata": {
  "kernelspec": {
   "display_name": "Python 3.10.5 64-bit (windows store)",
   "language": "python",
   "name": "python3"
  },
  "language_info": {
   "codemirror_mode": {
    "name": "ipython",
    "version": 3
   },
   "file_extension": ".py",
   "mimetype": "text/x-python",
   "name": "python",
   "nbconvert_exporter": "python",
   "pygments_lexer": "ipython3",
   "version": "3.10.5"
  },
  "orig_nbformat": 4,
  "vscode": {
   "interpreter": {
    "hash": "955a8ee509f368f3e009b2775401356f4469072ca3e865983ab0ff4b3f2642db"
   }
  }
 },
 "nbformat": 4,
 "nbformat_minor": 2
}
